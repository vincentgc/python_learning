{
 "cells": [
  {
   "cell_type": "code",
   "execution_count": 7,
   "metadata": {
    "collapsed": true
   },
   "outputs": [],
   "source": [
    "import scipy.io as scio\n",
    "import numpy as np\n",
    "import torch\n",
    "\n",
    "#文件路径\n",
    "dataFile = '/home/gcc/dataset/test-xyz_depth.mat'\n",
    "data = scio.loadmat(dataFile)\n",
    "depth = data['depth']"
   ]
  },
  {
   "cell_type": "code",
   "execution_count": 8,
   "metadata": {
    "collapsed": false
   },
   "outputs": [
    {
     "name": "stdout",
     "output_type": "stream",
     "text": [
      "<type 'numpy.ndarray'>\n",
      "<class 'torch.DoubleTensor'>\n"
     ]
    }
   ],
   "source": [
    "##把nan替换为0or其他数（还没有考虑好）\n",
    "##TODO\n",
    "where_are_nan = np.isnan(depth)\n",
    "depth[where_are_nan] = 0\n",
    "print(type(depth))\n",
    "#create tensor from numpy.ndarray\n",
    "depth=torch.from_numpy(depth)\n",
    "print(type(depth))"
   ]
  },
  {
   "cell_type": "code",
   "execution_count": 9,
   "metadata": {
    "collapsed": false,
    "scrolled": true
   },
   "outputs": [
    {
     "name": "stdout",
     "output_type": "stream",
     "text": [
      "\n",
      " 0.0000  0.0000  0.0000  ...   0.0000  0.0000  0.0000\n",
      " 0.0000  0.0000  0.0000  ...   0.0000  0.0000  0.0000\n",
      " 0.0000  0.0000  0.0000  ...   0.0000  0.0000  0.0000\n",
      "          ...             ⋱             ...          \n",
      " 0.0000  0.0000  0.0000  ...   0.0000  0.0000  0.0000\n",
      " 0.0000  0.0000  0.0000  ...   0.0000  0.0000  0.0000\n",
      " 0.0000  0.0000  0.0000  ...   0.0000  0.0000  0.0000\n",
      "[torch.DoubleTensor of size 480x640]\n",
      "\n"
     ]
    }
   ],
   "source": [
    "print depth"
   ]
  },
  {
   "cell_type": "code",
   "execution_count": null,
   "metadata": {
    "collapsed": true
   },
   "outputs": [],
   "source": [
    "import scipy.io as scio\n",
    "import numpy as np\n",
    "import torch\n",
    "\n",
    "#input:mat file\n",
    "#output: tensor\n",
    "def mat_read(filepath):\n",
    "    dataFile = filepath\n",
    "    data = scio.loadmat(dataFile)\n",
    "    #读取mat里的depth数据\n",
    "    depth = data['depth']\n",
    "    ##把nan替换为 0 or 其他数（还没有考虑好）\n",
    "    ##TODO\n",
    "    where_are_nan = np.isnan(depth)\n",
    "    depth[where_are_nan] = 0\n",
    "    #create tensor from numpy.ndarray\n",
    "    depth=torch.from_numpy(depth)\n",
    "    return depth"
   ]
  }
 ],
 "metadata": {
  "kernelspec": {
   "display_name": "Python 2",
   "language": "python",
   "name": "python2"
  },
  "language_info": {
   "codemirror_mode": {
    "name": "ipython",
    "version": 2
   },
   "file_extension": ".py",
   "mimetype": "text/x-python",
   "name": "python",
   "nbconvert_exporter": "python",
   "pygments_lexer": "ipython2",
   "version": "2.7.13"
  }
 },
 "nbformat": 4,
 "nbformat_minor": 2
}
