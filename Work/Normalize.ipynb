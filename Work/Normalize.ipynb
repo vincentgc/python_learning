{
 "cells": [
  {
   "cell_type": "code",
   "execution_count": 22,
   "metadata": {
    "collapsed": true
   },
   "outputs": [],
   "source": [
    "import scipy.io as scio\n",
    "import pandas\n",
    "import math\n",
    "import numpy as np\n",
    "def mat_read(filepath):\n",
    "    dataFile = filepath\n",
    "    data = scio.loadmat(dataFile)\n",
    "    #读取mat里的depth数据\n",
    "    depth = data['depth']\n",
    "    return depth"
   ]
  },
  {
   "cell_type": "code",
   "execution_count": 23,
   "metadata": {
    "collapsed": true
   },
   "outputs": [],
   "source": [
    "filepath='/home/gcc/github/python_learning/Work/2_depth.mat'"
   ]
  },
  {
   "cell_type": "code",
   "execution_count": 24,
   "metadata": {
    "collapsed": false
   },
   "outputs": [
    {
     "name": "stdout",
     "output_type": "stream",
     "text": [
      "2.85931272543 0.12394253679\n"
     ]
    }
   ],
   "source": [
    "depth=mat_read(filepath)\n",
    "#保存成图片格式\n",
    "#cv2.imwrite(\"1.bmp\", depth)\n",
    "data2=pandas.DataFrame(depth)\n",
    "data2.to_csv(\"2_origin.csv\")\n",
    "#归一化\n",
    "depth_scale=depth[depth>0]\n",
    "#avrg=math.floor(np.mean(depth_scale))\n",
    "#原始矩阵为整数用floor \n",
    "#虚拟样本不用，真实样本用floor\n",
    "avrg=np.mean(depth_scale)\n",
    "var=np.std(depth_scale)\n",
    "print avrg,var\n",
    "index=depth==0\n",
    "depth[index]=avrg\n",
    "depth_scale=(depth-avrg)/var\n",
    "#index1=abs(Img_scale)<0.05\n",
    "#Img_scale[index1]=0\n",
    "#保存成csv格式\n",
    "data1=pandas.DataFrame(depth_scale)\n",
    "data1.to_csv(\"2.csv\")"
   ]
  },
  {
   "cell_type": "code",
   "execution_count": null,
   "metadata": {
    "collapsed": true
   },
   "outputs": [],
   "source": []
  },
  {
   "cell_type": "code",
   "execution_count": null,
   "metadata": {
    "collapsed": true
   },
   "outputs": [],
   "source": []
  },
  {
   "cell_type": "code",
   "execution_count": null,
   "metadata": {
    "collapsed": true
   },
   "outputs": [],
   "source": []
  }
 ],
 "metadata": {
  "kernelspec": {
   "display_name": "Python 2",
   "language": "python",
   "name": "python2"
  },
  "language_info": {
   "codemirror_mode": {
    "name": "ipython",
    "version": 2
   },
   "file_extension": ".py",
   "mimetype": "text/x-python",
   "name": "python",
   "nbconvert_exporter": "python",
   "pygments_lexer": "ipython2",
   "version": "2.7.13"
  }
 },
 "nbformat": 4,
 "nbformat_minor": 2
}
