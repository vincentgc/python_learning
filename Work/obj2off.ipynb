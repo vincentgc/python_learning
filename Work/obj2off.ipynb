{
 "cells": [
  {
   "cell_type": "code",
   "execution_count": 13,
   "metadata": {
    "collapsed": true
   },
   "outputs": [],
   "source": [
    "import os\n",
    "import glob\n",
    "class Point(object):\n",
    "    def __init__(self,x,y,z):\n",
    "        self.x = x\n",
    "        self.y = y\n",
    "        self.z = z\n",
    "class Tri(object):\n",
    "    def __init__(self,x,y,z):\n",
    "        self.fir = x\n",
    "        self.sec = y\n",
    "        self.thi = z"
   ]
  },
  {
   "cell_type": "code",
   "execution_count": 14,
   "metadata": {
    "collapsed": true
   },
   "outputs": [],
   "source": [
    "def generate_off(obj_dir, off_dir):\n",
    "    if not os.path.exists(off_dir):\n",
    "        os.mkdir(off_dir)\n",
    "    for root, dirnames, _ in os.walk(obj_dir):\n",
    "        for dirname in dirnames:\n",
    "            off_dirname='off_'+dirname\n",
    "            subdirname = os.path.join(off_dir, off_dirname)\n",
    "            if not os.path.exists(subdirname):\n",
    "                os.mkdir(subdirname)                                      \n",
    "            dname = os.path.join(root, dirname)\n",
    "            names = glob.glob(dname+r'/*.obj')  \n",
    "            for f in names:\n",
    "                obj2off(f,subdirname)\n",
    "            print ('obj2off {} done'.format(dname))"
   ]
  },
  {
   "cell_type": "code",
   "execution_count": 15,
   "metadata": {
    "collapsed": true
   },
   "outputs": [],
   "source": [
    "def obj2off(filepath,off_dir):\n",
    "    with open(filepath) as files:\n",
    "        n=0\n",
    "        m=0\n",
    "        points=[]\n",
    "        tris=[]\n",
    "        while 1:\n",
    "            line = files.readline()\n",
    "            strs = line.split(' ')\n",
    "            if strs[0]==\"v\":\n",
    "                points.append(Point(strs[2],strs[3],strs[4]))\n",
    "                n+=1\n",
    "            if strs[0]==\"f\":\n",
    "                nums=[]\n",
    "                for str in strs:\n",
    "                    if str==\"f\" or str==\"\\r\\n\":\n",
    "                        continue\n",
    "                    num = str.split(\"//\")\n",
    "                    ##off文件中 三角索引的顶点从0开始\n",
    "                    temp =int(num[0]) -1\n",
    "                    nums.append(repr(temp))\n",
    "                tris.append(Tri(nums[0],nums[1],nums[2]))\n",
    "                m+=1\n",
    "            if not line:\n",
    "                break     \n",
    "    fname = os.path.split(filepath)[-1]\n",
    "    offname = os.path.splitext(fname)[0]+'.off'\n",
    "    offpath=os.path.join(off_dir,offname)\n",
    "    f=open(offpath,'w')\n",
    "    line1 = \"OFF\\n\"\n",
    "    line2 = repr(n) + \" \"+repr(m)+\" \"+\"0\\n\"\n",
    "    f.writelines(line1)\n",
    "    f.writelines(line2)\n",
    "    for i in range(n):\n",
    "        #linev = points[i].x+\" \"+points[i].y+\" \"+points[i].z\n",
    "        linev = points[i].x+\" \"+repr(-float(points[i].z.strip()))+\" \"+points[i].y+'\\n'\n",
    "        f.writelines(linev)\n",
    "    for i in range(m):\n",
    "        linef = \"3 \"+tris[i].fir+\" \"+tris[i].sec+\" \"+tris[i].thi+\"\\n\"\n",
    "        f.writelines(linef)\n",
    "    f.close()"
   ]
  },
  {
   "cell_type": "code",
   "execution_count": 16,
   "metadata": {
    "collapsed": false
   },
   "outputs": [
    {
     "name": "stdout",
     "output_type": "stream",
     "text": [
      "obj2off /home/gcc/dataset/1.90_0 done\n",
      "obj2off /home/gcc/dataset/26.0_0 done\n"
     ]
    }
   ],
   "source": [
    "obj_dir = '/home/gcc/dataset'\n",
    "off_dir = '/home/gcc/viewpoint'\n",
    "generate_off(obj_dir,off_dir)"
   ]
  },
  {
   "cell_type": "code",
   "execution_count": null,
   "metadata": {
    "collapsed": true
   },
   "outputs": [],
   "source": []
  }
 ],
 "metadata": {
  "kernelspec": {
   "display_name": "Python 2",
   "language": "python",
   "name": "python2"
  },
  "language_info": {
   "codemirror_mode": {
    "name": "ipython",
    "version": 2
   },
   "file_extension": ".py",
   "mimetype": "text/x-python",
   "name": "python",
   "nbconvert_exporter": "python",
   "pygments_lexer": "ipython2",
   "version": "2.7.13"
  }
 },
 "nbformat": 4,
 "nbformat_minor": 2
}
