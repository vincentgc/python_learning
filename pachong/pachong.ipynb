{
 "cells": [
  {
   "cell_type": "code",
   "execution_count": 34,
   "metadata": {
    "collapsed": false
   },
   "outputs": [],
   "source": [
    "import urllib\n",
    "import urllib2\n",
    "import re\n"
   ]
  },
  {
   "cell_type": "markdown",
   "metadata": {},
   "source": [
    "### get pictures from url"
   ]
  },
  {
   "cell_type": "code",
   "execution_count": 48,
   "metadata": {
    "collapsed": false
   },
   "outputs": [
    {
     "name": "stdout",
     "output_type": "stream",
     "text": [
      "['http://himg2.huanqiu.com/statics/hq2013/images/index2015/adx.jpg', 'http://himg2.huanqiu.com/attachment2010/2017/0719/15/57/20170719035727837.jpg', 'http://himg2.huanqiu.com/attachment2010/2017/0719/11/41/20170719114155613.jpg', 'http://himg2.huanqiu.com/attachment2010/2017/0719/08/31/20170719083141423.jpg', 'http://himg2.huanqiu.com/attachment2010/2017/0719/11/50/20170719115054947.jpg', 'http://himg2.huanqiu.com/attachment2010/2017/0719/14/59/20170719025923477.jpg', 'http://himg2.huanqiu.com/attachment2010/2017/0719/08/15/20170719081559636.jpg', 'http://himg2.huanqiu.com/attachment2010/2017/0719/19/07/20170719070754550.jpg', 'http://himg2.huanqiu.com/attachment2010/2017/0719/15/22/20170719032258894.jpg', 'http://himg2.huanqiu.com/attachment2010/2017/0719/15/24/20170719032421111.jpg', 'http://himg2.huanqiu.com/attachment2010/2017/0719/11/35/20170719113521732.jpg', 'http://himg2.huanqiu.com/attachment2010/2017/0719/08/46/20170719084654232.jpg', 'http://himg2.huanqiu.com/attachment2010/2017/0719/13/35/20170719013507364.jpg', 'http://himg2.huanqiu.com/attachment2010/2017/0719/08/49/20170719084936417.jpg', 'http://himg2.huanqiu.com/attachment2010/2017/0718/12/28/20170718122834932.jpg', 'http://himg2.huanqiu.com/attachment2010/2017/0714/14/52/20170714025242825.jpg', 'http://himg2.huanqiu.com/attachment2010/2017/0719/13/00/20170719010003636.jpg', 'http://himg2.huanqiu.com/attachment2010/2017/0719/08/32/20170719083252684.jpg', 'http://himg2.huanqiu.com/attachment2010/2017/0719/10/11/20170719101131717.jpg', 'http://himg2.huanqiu.com/attachment2010/2017/0717/10/32/20170717103246448.jpg', 'http://himg2.huanqiu.com/attachment2010/2017/0719/08/10/20170719081011239.jpg', 'http://himg2.huanqiu.com/attachment2010/2017/0719/09/54/20170719095459405.jpg', 'http://himg2.huanqiu.com/attachment2010/2017/0719/19/11/20170719071145144.jpg', 'http://himg2.huanqiu.com/attachment2010/2017/0718/19/09/20170718070950644.jpg', 'http://himg2.huanqiu.com/attachment2010/2017/0718/19/10/20170718071020434.jpg', 'http://himg2.huanqiu.com/attachment2010/2017/0717/14/38/20170717023824120.jpg', 'http://himg2.huanqiu.com/attachment2010/2017/0718/11/05/20170718110542937.jpg', 'http://himg2.huanqiu.com/attachment2010/2017/0427/07/49/20170427074901158.jpg', 'http://himg2.huanqiu.com/attachment2010/2017/0427/07/49/20170427074918461.jpg', 'http://himg2.huanqiu.com/attachment2010/2017/0427/07/49/20170427074947208.jpg', 'http://himg2.huanqiu.com/attachment2010/2017/0427/07/50/20170427075007868.jpg', 'http://himg2.huanqiu.com/attachment2010/2017/0719/08/16/20170719081607682.jpg', 'http://himg2.huanqiu.com/attachment2010/2017/0719/08/18/20170719081856454.jpg', 'http://himg2.huanqiu.com/attachment2010/2017/0719/08/19/20170719081945443.jpg', 'http://himg2.huanqiu.com/attachment2010/2017/0718/10/19/20170718101925917.jpg', 'http://himg2.huanqiu.com/attachment2010/2017/0718/16/42/20170718044251766.jpg', 'http://himg2.huanqiu.com/attachment2010/2017/0612/16/28/20170612042822827.jpg', 'http://himg2.huanqiu.com/attachment2010/2017/0420/16/08/20170420040811342.jpg', 'http://himg2.huanqiu.com/attachment2010/2017/0719/09/21/20170719092104491.jpg', 'http://himg2.huanqiu.com/attachment2010/2017/0719/14/06/20170719020603233.jpg', 'http://himg2.huanqiu.com/attachment2010/2017/0719/09/56/20170719095627993.jpg', 'http://himg2.huanqiu.com/attachment2010/2017/0719/10/08/20170719100844140.jpg', 'http://himg2.huanqiu.com/attachment2010/2017/0719/08/32/20170719083236208.jpg', 'http://himg2.huanqiu.com/attachment2010/2017/0717/23/14/20170717111416927.jpg', 'http://himg2.huanqiu.com/attachment2010/2017/0717/23/15/20170717111522138.jpg', 'http://himg2.huanqiu.com/attachment2010/2017/0719/19/04/20170719070458545.jpg', 'http://himg2.huanqiu.com/attachment2010/2017/0719/08/29/20170719082908229.jpg', 'http://himg2.huanqiu.com/attachment2010/2017/0719/15/16/20170719031626827.jpg', 'http://himg2.huanqiu.com/attachment2010/2017/0719/15/16/20170719031649568.jpg', 'http://himg2.huanqiu.com/attachment2010/2017/0719/15/17/20170719031706228.jpg', 'http://himg2.huanqiu.com/attachment2010/2017/0719/15/17/20170719031726506.jpg', 'http://himg2.huanqiu.com/attachment2010/2017/0719/15/17/20170719031743668.jpg', 'http://himg2.huanqiu.com/attachment2010/2017/0719/15/17/20170719031758776.jpg']\n"
     ]
    }
   ],
   "source": [
    "##get picture from url\n",
    "def getHtml(url):\n",
    "    page = urllib.urlopen(url)\n",
    "    html = page.read()\n",
    "    return html\n",
    "def getImg(html):\n",
    "    reg = r'src=\"(.+?\\.jpg)\"'\n",
    "    imgre = re.compile(reg)\n",
    "    imglist = re.findall(imgre,html)\n",
    "    return imglist\n",
    "\n",
    "starturl=\"http://www.huanqiu.com/\"\n",
    "html = getHtml(starturl)\n",
    "#print html\n",
    "imglist = getImg(html)\n",
    "#print imglist\n",
    "x = 0\n",
    "for imgurl in imglist:\n",
    "    urllib.urlretrieve(imgurl,'/home/gcc/pic/%s.jpg' % x)\n",
    "    x+=1\n"
   ]
  },
  {
   "cell_type": "code",
   "execution_count": null,
   "metadata": {
    "collapsed": true
   },
   "outputs": [],
   "source": []
  }
 ],
 "metadata": {
  "kernelspec": {
   "display_name": "Python 2",
   "language": "python",
   "name": "python2"
  },
  "language_info": {
   "codemirror_mode": {
    "name": "ipython",
    "version": 2
   },
   "file_extension": ".py",
   "mimetype": "text/x-python",
   "name": "python",
   "nbconvert_exporter": "python",
   "pygments_lexer": "ipython2",
   "version": "2.7.13"
  }
 },
 "nbformat": 4,
 "nbformat_minor": 2
}
