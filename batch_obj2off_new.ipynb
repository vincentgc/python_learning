{
 "cells": [
  {
   "cell_type": "code",
   "execution_count": 1,
   "metadata": {
    "collapsed": true
   },
   "outputs": [],
   "source": [
    "import os\n",
    "class Point(object):\n",
    "    def __init__(self,x,y,z):\n",
    "        self.x = x\n",
    "        self.y = y\n",
    "        self.z = z\n",
    "class Tri(object):\n",
    "    def __init__(self,x,y,z):\n",
    "        self.fir = x\n",
    "        self.sec = y\n",
    "        self.thi = z"
   ]
  },
  {
   "cell_type": "code",
   "execution_count": 2,
   "metadata": {
    "collapsed": true
   },
   "outputs": [],
   "source": [
    "#obj转成off文件\n",
    "def obj2off(filepath):\n",
    "    with open(filepath) as files:\n",
    "        n=0\n",
    "        m=0\n",
    "        points=[]\n",
    "        tris=[]\n",
    "        while 1:\n",
    "            line = files.readline()\n",
    "            strs = line.split(' ')\n",
    "            if strs[0]==\"v\":\n",
    "                points.append(Point(strs[2],strs[3],strs[4]))\n",
    "                n+=1\n",
    "            if strs[0]==\"f\":\n",
    "                nums=[]\n",
    "                for str in strs:\n",
    "                    if str==\"f\" or str==\"\\r\\n\":\n",
    "                        continue\n",
    "                    num = str.split(\"//\")\n",
    "                    ##off文件中 三角索引的顶点从0开始\n",
    "                    temp =int(num[0]) -1\n",
    "                    nums.append(repr(temp))\n",
    "                tris.append(Tri(nums[0],nums[1],nums[2]))\n",
    "                m+=1\n",
    "            if not line:\n",
    "                break     \n",
    "    obj_name = os.path.splitext(filepath)[0]+'.off'\n",
    "    if not os.path.exists(obj_name):\n",
    "        f=open(obj_name,'w')\n",
    "        line1 = \"OFF\\n\"\n",
    "        line2 = repr(n) + \" \"+repr(m)+\" \"+\"0\\n\"\n",
    "        f.writelines(line1)\n",
    "        f.writelines(line2)\n",
    "        for i in range(n):\n",
    "            linev = points[i].x+\" \"+points[i].y+\" \"+points[i].z\n",
    "            f.writelines(linev)\n",
    "        for i in range(m):\n",
    "            linef = \"3 \"+tris[i].fir+\" \"+tris[i].sec+\" \"+tris[i].thi+\"\\n\"\n",
    "            f.writelines(linef)\n",
    "        f.close()"
   ]
  },
  {
   "cell_type": "code",
   "execution_count": 3,
   "metadata": {
    "collapsed": true
   },
   "outputs": [],
   "source": [
    "def batch(filepath):\n",
    "    pathDir = os.listdir(filepath)\n",
    "    for s in pathDir:\n",
    "        newDir = os.path.join(filepath,s)\n",
    "        if os.path.isfile(newDir):\n",
    "            if os.path.splitext(newDir)[1] == \".obj\":#分解扩展名\n",
    "                obj2off(newDir)\n",
    "        elif os.path.isdir(newDir):\n",
    "            new_filepath = newDir+os.path.sep\n",
    "            batch(new_filepath)"
   ]
  },
  {
   "cell_type": "code",
   "execution_count": 4,
   "metadata": {
    "collapsed": true
   },
   "outputs": [],
   "source": [
    "filepath = \"/home/gcc/dataset/\"\n",
    "batch(filepath)"
   ]
  },
  {
   "cell_type": "code",
   "execution_count": null,
   "metadata": {
    "collapsed": true
   },
   "outputs": [],
   "source": []
  }
 ],
 "metadata": {
  "kernelspec": {
   "display_name": "Python 2",
   "language": "python",
   "name": "python2"
  },
  "language_info": {
   "codemirror_mode": {
    "name": "ipython",
    "version": 2
   },
   "file_extension": ".py",
   "mimetype": "text/x-python",
   "name": "python",
   "nbconvert_exporter": "python",
   "pygments_lexer": "ipython2",
   "version": "2.7.13"
  }
 },
 "nbformat": 4,
 "nbformat_minor": 2
}
