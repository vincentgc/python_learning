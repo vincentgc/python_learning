{
 "cells": [
  {
   "cell_type": "code",
   "execution_count": 12,
   "metadata": {
    "collapsed": false
   },
   "outputs": [
    {
     "data": {
      "text/plain": [
       "'from https://github.com/yhat/python-naive-bayes/blob/master/nb.py'"
      ]
     },
     "execution_count": 12,
     "metadata": {},
     "output_type": "execute_result"
    }
   ],
   "source": [
    "#正则表达式模块\n",
    "import re\n",
    "import string\n",
    "\"\"\"from https://github.com/yhat/python-naive-bayes/blob/master/nb.py\"\"\""
   ]
  },
  {
   "cell_type": "code",
   "execution_count": 13,
   "metadata": {
    "collapsed": true
   },
   "outputs": [],
   "source": [
    "#去除字符串中的标点符号\n",
    "def remove_punctuation(s):\n",
    "    #> string.punctuation----'!\"#$%&\\'()*+,-./:;<=>?@[\\\\]^_`{|}~'\n",
    "    exclude = set(string.punctuation)\n",
    "    return ''.join(ch for ch in s if ch not in exclude)\n",
    "#去除空格\n",
    "def tokenize(text):\n",
    "    text = remove_punctuation(text)\n",
    "    text = text.lower()\n",
    "    #\\W+表示非单词符号\n",
    "    return re.split(\"\\W+\",text)\n",
    "#建立单词字典\n",
    "def count_words(words):\n",
    "    wc = {}\n",
    "    for word in words:\n",
    "        wc[word] = wc.get(word,0) +1\n",
    "    return wc"
   ]
  },
  {
   "cell_type": "code",
   "execution_count": 14,
   "metadata": {
    "collapsed": false
   },
   "outputs": [
    {
     "data": {
      "text/plain": [
       "{'favorite': 1,\n",
       " 'food': 1,\n",
       " 'greg': 1,\n",
       " 'hello': 1,\n",
       " 'is': 2,\n",
       " 'my': 2,\n",
       " 'name': 1,\n",
       " 'pizza': 1}"
      ]
     },
     "execution_count": 14,
     "metadata": {},
     "output_type": "execute_result"
    }
   ],
   "source": [
    "s = \"Hello my name, is Greg. My favorite food is pizza.\"\n",
    "count_words(tokenize(s))"
   ]
  },
  {
   "cell_type": "code",
   "execution_count": null,
   "metadata": {
    "collapsed": true
   },
   "outputs": [],
   "source": []
  }
 ],
 "metadata": {
  "kernelspec": {
   "display_name": "Python 2",
   "language": "python",
   "name": "python2"
  },
  "language_info": {
   "codemirror_mode": {
    "name": "ipython",
    "version": 2
   },
   "file_extension": ".py",
   "mimetype": "text/x-python",
   "name": "python",
   "nbconvert_exporter": "python",
   "pygments_lexer": "ipython2",
   "version": "2.7.13"
  }
 },
 "nbformat": 4,
 "nbformat_minor": 2
}
